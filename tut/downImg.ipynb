{
 "cells": [
  {
   "cell_type": "code",
   "execution_count": 2,
   "metadata": {},
   "outputs": [
    {
     "name": "stdout",
     "output_type": "stream",
     "text": [
      "Collecting google_images_download\n",
      "  Downloading https://files.pythonhosted.org/packages/18/ed/0319d30c48f3653802da8e6dcfefcea6370157d10d566ef6807cceb5ec4d/google_images_download-2.8.0.tar.gz\n",
      "Collecting selenium (from google_images_download)\n",
      "  Downloading https://files.pythonhosted.org/packages/80/d6/4294f0b4bce4de0abf13e17190289f9d0613b0a44e5dd6a7f5ca98459853/selenium-3.141.0-py2.py3-none-any.whl (904kB)\n",
      "Requirement already satisfied: urllib3 in c:\\users\\shubham\\anaconda3\\lib\\site-packages (from selenium->google_images_download) (1.22)\n",
      "Building wheels for collected packages: google-images-download\n",
      "  Building wheel for google-images-download (setup.py): started\n",
      "  Building wheel for google-images-download (setup.py): finished with status 'done'\n",
      "  Stored in directory: C:\\Users\\shubham\\AppData\\Local\\pip\\Cache\\wheels\\1f\\28\\ad\\f56e7061e1d2a9a1affe2f9c649c2570cb9198dd24ede0bbab\n",
      "Successfully built google-images-download\n",
      "Installing collected packages: selenium, google-images-download\n",
      "Successfully installed google-images-download-2.8.0 selenium-3.141.0\n"
     ]
    },
    {
     "name": "stderr",
     "output_type": "stream",
     "text": [
      "WARNING: You are using pip version 19.1, however version 19.1.1 is available.\n",
      "You should consider upgrading via the 'python -m pip install --upgrade pip' command.\n"
     ]
    }
   ],
   "source": [
    "#install module\n",
    "!pip install google_images_download"
   ]
  },
  {
   "cell_type": "code",
   "execution_count": 3,
   "metadata": {},
   "outputs": [],
   "source": [
    "#import\n",
    "from google_images_download import google_images_download"
   ]
  },
  {
   "cell_type": "code",
   "execution_count": 4,
   "metadata": {},
   "outputs": [],
   "source": [
    "#create object\n",
    "response=google_images_download.googleimagesdownload()"
   ]
  },
  {
   "cell_type": "code",
   "execution_count": 5,
   "metadata": {},
   "outputs": [],
   "source": [
    "search_queries=['image of Eiffel Tower.']"
   ]
  },
  {
   "cell_type": "code",
   "execution_count": 6,
   "metadata": {},
   "outputs": [],
   "source": [
    "#aspect_ratio denote height width ratio\n",
    "def downloadimages(query):\n",
    "    arguments={\"keywords\":query,\n",
    "               \"format\":\"jpg\",\n",
    "                \"limit\":5,\n",
    "                \"print_urls\":True,\n",
    "                \"size\":\"medium\",\n",
    "                \"aspect_ratio\":\"panoramic\"}\n",
    "    try:\n",
    "        response.download(arguments)\n",
    "    except FileNotFoundError:\n",
    "        arguments={\"keywords\":query,\n",
    "               \"format\":\"jpg\",\n",
    "                \"limit\":5,\n",
    "                \"print_urls\":True,\n",
    "                \"size\":\"medium\"}\n",
    "        try:\n",
    "            response.download(arguments)\n",
    "        except:\n",
    "            pass    \n",
    "        \n",
    "        \n",
    "        "
   ]
  },
  {
   "cell_type": "code",
   "execution_count": 7,
   "metadata": {},
   "outputs": [
    {
     "name": "stdout",
     "output_type": "stream",
     "text": [
      "\n",
      "Item no.: 1 --> Item name = image of Eiffel Tower.\n",
      "Evaluating...\n",
      "Starting Download...\n",
      "Image URL: https://www.discoverwalks.com/blog/wp-content/uploads/2017/06/around-the-eiffel-tower.jpg\n",
      "Completed Image ====> 1.around-the-eiffel-tower.jpg\n",
      "Image URL: https://amp.businessinsider.com/images/551aa92aeab8ead239285bd0-750-375.jpg\n",
      "Completed Image ====> 2.551aa92aeab8ead239285bd0-750-375.jpg\n",
      "Image URL: https://www.parisinsidersguide.com/image-files/xeiffel-tower-trocadero-fountains-symmetry-123-784-2x1.jpg.pagespeed.ic.Ryw3UWmNeL.jpg\n",
      "Completed Image ====> 3.xeiffel-tower-trocadero-fountains-symmetry-123-784-2x1.jpg\n",
      "Image URL: https://www.discoverwalks.com/blog/wp-content/uploads/2015/08/eiffel-big.jpg\n",
      "Completed Image ====> 4.eiffel-big.jpg\n",
      "Image URL: https://media.proprofs.com/images/discuss/user_images/153336/1892911158.jpg\n",
      "Completed Image ====> 5.1892911158.jpg\n",
      "\n",
      "Errors: 0\n",
      "\n",
      "\n"
     ]
    }
   ],
   "source": [
    "for query in search_queries:\n",
    "    downloadimages(query)\n",
    "    print()"
   ]
  },
  {
   "cell_type": "code",
   "execution_count": null,
   "metadata": {},
   "outputs": [],
   "source": [
    "#thank you"
   ]
  }
 ],
 "metadata": {
  "kernelspec": {
   "display_name": "Python 3",
   "language": "python",
   "name": "python3"
  },
  "language_info": {
   "codemirror_mode": {
    "name": "ipython",
    "version": 3
   },
   "file_extension": ".py",
   "mimetype": "text/x-python",
   "name": "python",
   "nbconvert_exporter": "python",
   "pygments_lexer": "ipython3",
   "version": "3.6.4"
  }
 },
 "nbformat": 4,
 "nbformat_minor": 2
}
